{
 "cells": [
  {
   "cell_type": "code",
   "execution_count": 102,
   "id": "9982f9ba",
   "metadata": {},
   "outputs": [],
   "source": [
    "import numpy as np\n",
    "import pandas as pd\n"
   ]
  },
  {
   "cell_type": "code",
   "execution_count": 103,
   "id": "7dfb4437",
   "metadata": {},
   "outputs": [],
   "source": [
    "from sklearn.neighbors import KNeighborsClassifier"
   ]
  },
  {
   "cell_type": "code",
   "execution_count": 104,
   "id": "2c5a427d",
   "metadata": {},
   "outputs": [],
   "source": [
    "SAMPLE_SIZE = 20\n",
    "\n",
    "def import_category_data(label, sample_size):\n",
    "    data = []\n",
    "    for i in range(sample_size):\n",
    "        f = './' + str(label) + '/data_' + str(i+1) + '_np.csv'\n",
    "        data.append(pd.read_csv(f))\n",
    "    return data\n",
    "\n",
    "wave_Xs = import_category_data('wave', SAMPLE_SIZE)\n",
    "swipe_Xs = import_category_data('swipe', SAMPLE_SIZE)\n",
    "spin_Xs = import_category_data('spin', SAMPLE_SIZE)\n",
    "new_Xs = import_category_data('new', SAMPLE_SIZE)"
   ]
  },
  {
   "cell_type": "code",
   "execution_count": 104,
   "id": "481c34cc",
   "metadata": {},
   "outputs": [],
   "source": [
    "SAMPLE_SIZE = 20\n",
    "\n",
    "def import_data(label, sample_size):\n",
    "    data = []\n",
    "    for i in range(sample_size):\n",
    "        f = './' + str(label) + '/data_' + str(i+1) + '_np.csv'\n",
    "        data.append(pd.read_csv(f))\n",
    "    return data\n",
    "\n",
    "wave_Xs = import_category_data('wave', SAMPLE_SIZE)\n",
    "swipe_Xs = import_category_data('swipe', SAMPLE_SIZE)\n",
    "spin_Xs = import_category_data('spin', SAMPLE_SIZE)\n",
    "new_Xs = import_category_data('new', SAMPLE_SIZE)"
   ]
  },
  {
   "cell_type": "code",
   "execution_count": 105,
   "id": "96c857e9",
   "metadata": {},
   "outputs": [],
   "source": [
    "# data1 = pd.read_csv('./wave/data_1_np.csv')\n",
    "#data1"
   ]
  },
  {
   "cell_type": "code",
   "execution_count": 106,
   "id": "4e441a21",
   "metadata": {},
   "outputs": [],
   "source": [
    "# data2 = pd.read_csv('./wave/data_2_np.csv')"
   ]
  },
  {
   "cell_type": "code",
   "execution_count": 107,
   "id": "99db1cb4",
   "metadata": {},
   "outputs": [],
   "source": [
    "# pd.DataFrame([data1, data2])"
   ]
  },
  {
   "cell_type": "code",
   "execution_count": 108,
   "id": "4c127518",
   "metadata": {},
   "outputs": [],
   "source": [
    "# data = pd.append(pd.read_csv('./wave/data_1_np.csv'))\n",
    "#data"
   ]
  },
  {
   "cell_type": "code",
   "execution_count": 109,
   "id": "9d7fccb0",
   "metadata": {},
   "outputs": [],
   "source": [
    "wave_y =  np.full(SAMPLE_SIZE, 0)\n",
    "swipe_y = np.full(SAMPLE_SIZE, 1)\n",
    "spin_y = np.full(SAMPLE_SIZE, 2)\n",
    "new_y = np.full(SAMPLE_SIZE, 3)"
   ]
  },
  {
   "cell_type": "code",
   "execution_count": 117,
   "id": "dce5ff46",
   "metadata": {},
   "outputs": [
    {
     "ename": "AttributeError",
     "evalue": "'list' object has no attribute 'shape'",
     "output_type": "error",
     "traceback": [
      "\u001b[0;31m---------------------------------------------------------------------------\u001b[0m",
      "\u001b[0;31mAttributeError\u001b[0m                            Traceback (most recent call last)",
      "\u001b[0;32m/var/folders/gj/s8k6bb1n5wb72w67jbvp_gz00000gn/T/ipykernel_49136/1215651597.py\u001b[0m in \u001b[0;36m<module>\u001b[0;34m\u001b[0m\n\u001b[0;32m----> 1\u001b[0;31m \u001b[0mnew_Xs\u001b[0m\u001b[0;34m.\u001b[0m\u001b[0mshape\u001b[0m\u001b[0;34m\u001b[0m\u001b[0;34m\u001b[0m\u001b[0m\n\u001b[0m",
      "\u001b[0;31mAttributeError\u001b[0m: 'list' object has no attribute 'shape'"
     ]
    }
   ],
   "source": [
    "new_Xs.shape"
   ]
  },
  {
   "cell_type": "code",
   "execution_count": 111,
   "id": "5270b012",
   "metadata": {},
   "outputs": [
    {
     "name": "stderr",
     "output_type": "stream",
     "text": [
      "/var/folders/gj/s8k6bb1n5wb72w67jbvp_gz00000gn/T/ipykernel_49136/2653805197.py:1: VisibleDeprecationWarning: Creating an ndarray from ragged nested sequences (which is a list-or-tuple of lists-or-tuples-or ndarrays with different lengths or shapes) is deprecated. If you meant to do this, you must specify 'dtype=object' when creating the ndarray.\n",
      "  trainXs = np.concatenate(((np.array(wave_Xs),np.array(swipe_Xs))), axis = 0)\n"
     ]
    }
   ],
   "source": [
    "trainXs = np.concatenate(((np.array(wave_Xs),np.array(swipe_Xs))), axis = 0)\n"
   ]
  },
  {
   "cell_type": "code",
   "execution_count": 90,
   "id": "31caca3a",
   "metadata": {},
   "outputs": [],
   "source": [
    "# Importing Testing Data\n",
    "def import_category_data(label, sample_size, index):\n",
    "    data = []\n",
    "    f = './' + str(label) + '/data_' + str(index) + '_np.csv'\n",
    "    data.append(pd.read_csv(f))\n",
    "    return data\n",
    "\n",
    "# import test data \n",
    "wave_testX = import_category_data('test', 1, 1)\n",
    "swipe_testX  = import_category_data('test', 1, 5)\n",
    "spin_testX  = import_category_data('test', 1, 8)"
   ]
  },
  {
   "cell_type": "code",
   "execution_count": 116,
   "id": "1074f2f8",
   "metadata": {},
   "outputs": [
    {
     "name": "stderr",
     "output_type": "stream",
     "text": [
      "/var/folders/gj/s8k6bb1n5wb72w67jbvp_gz00000gn/T/ipykernel_49136/489290893.py:2: VisibleDeprecationWarning: Creating an ndarray from ragged nested sequences (which is a list-or-tuple of lists-or-tuples-or ndarrays with different lengths or shapes) is deprecated. If you meant to do this, you must specify 'dtype=object' when creating the ndarray.\n",
      "  d_prime = np.array(d).std(axis=1)\n"
     ]
    },
    {
     "ename": "AxisError",
     "evalue": "axis 1 is out of bounds for array of dimension 1",
     "output_type": "error",
     "traceback": [
      "\u001b[0;31m---------------------------------------------------------------------------\u001b[0m",
      "\u001b[0;31mAxisError\u001b[0m                                 Traceback (most recent call last)",
      "\u001b[0;32m/var/folders/gj/s8k6bb1n5wb72w67jbvp_gz00000gn/T/ipykernel_49136/489290893.py\u001b[0m in \u001b[0;36m<module>\u001b[0;34m\u001b[0m\n\u001b[1;32m     10\u001b[0m \u001b[0;31m# sw = feature_engineering(swipe_Xs)\u001b[0m\u001b[0;34m\u001b[0m\u001b[0;34m\u001b[0m\u001b[0m\n\u001b[1;32m     11\u001b[0m \u001b[0;31m# sp = feature_engineering(spin_Xs)\u001b[0m\u001b[0;34m\u001b[0m\u001b[0;34m\u001b[0m\u001b[0m\n\u001b[0;32m---> 12\u001b[0;31m \u001b[0mn\u001b[0m \u001b[0;34m=\u001b[0m \u001b[0mfeature_engineering\u001b[0m\u001b[0;34m(\u001b[0m\u001b[0mnew_Xs\u001b[0m\u001b[0;34m)\u001b[0m\u001b[0;34m\u001b[0m\u001b[0;34m\u001b[0m\u001b[0m\n\u001b[0m",
      "\u001b[0;32m/var/folders/gj/s8k6bb1n5wb72w67jbvp_gz00000gn/T/ipykernel_49136/489290893.py\u001b[0m in \u001b[0;36mfeature_engineering\u001b[0;34m(d)\u001b[0m\n\u001b[1;32m      1\u001b[0m \u001b[0;32mdef\u001b[0m \u001b[0mfeature_engineering\u001b[0m\u001b[0;34m(\u001b[0m\u001b[0md\u001b[0m\u001b[0;34m)\u001b[0m\u001b[0;34m:\u001b[0m\u001b[0;34m\u001b[0m\u001b[0;34m\u001b[0m\u001b[0m\n\u001b[0;32m----> 2\u001b[0;31m     \u001b[0md_prime\u001b[0m \u001b[0;34m=\u001b[0m \u001b[0mnp\u001b[0m\u001b[0;34m.\u001b[0m\u001b[0marray\u001b[0m\u001b[0;34m(\u001b[0m\u001b[0md\u001b[0m\u001b[0;34m)\u001b[0m\u001b[0;34m.\u001b[0m\u001b[0mstd\u001b[0m\u001b[0;34m(\u001b[0m\u001b[0maxis\u001b[0m\u001b[0;34m=\u001b[0m\u001b[0;36m1\u001b[0m\u001b[0;34m)\u001b[0m\u001b[0;34m\u001b[0m\u001b[0;34m\u001b[0m\u001b[0m\n\u001b[0m\u001b[1;32m      3\u001b[0m     \u001b[0;32mreturn\u001b[0m \u001b[0md_prime\u001b[0m\u001b[0;34m\u001b[0m\u001b[0;34m\u001b[0m\u001b[0m\n\u001b[1;32m      4\u001b[0m \u001b[0;34m\u001b[0m\u001b[0m\n\u001b[1;32m      5\u001b[0m \u001b[0;31m# trainX = feature_engineering(trainXs)\u001b[0m\u001b[0;34m\u001b[0m\u001b[0;34m\u001b[0m\u001b[0m\n",
      "\u001b[0;32m~/opt/miniconda3/envs/ml135_env_sp21/lib/python3.9/site-packages/numpy/core/_methods.py\u001b[0m in \u001b[0;36m_std\u001b[0;34m(a, axis, dtype, out, ddof, keepdims, where)\u001b[0m\n\u001b[1;32m    259\u001b[0m def _std(a, axis=None, dtype=None, out=None, ddof=0, keepdims=False, *,\n\u001b[1;32m    260\u001b[0m          where=True):\n\u001b[0;32m--> 261\u001b[0;31m     ret = _var(a, axis=axis, dtype=dtype, out=out, ddof=ddof,\n\u001b[0m\u001b[1;32m    262\u001b[0m                keepdims=keepdims, where=where)\n\u001b[1;32m    263\u001b[0m \u001b[0;34m\u001b[0m\u001b[0m\n",
      "\u001b[0;32m~/opt/miniconda3/envs/ml135_env_sp21/lib/python3.9/site-packages/numpy/core/_methods.py\u001b[0m in \u001b[0;36m_var\u001b[0;34m(a, axis, dtype, out, ddof, keepdims, where)\u001b[0m\n\u001b[1;32m    196\u001b[0m     \u001b[0marr\u001b[0m \u001b[0;34m=\u001b[0m \u001b[0masanyarray\u001b[0m\u001b[0;34m(\u001b[0m\u001b[0ma\u001b[0m\u001b[0;34m)\u001b[0m\u001b[0;34m\u001b[0m\u001b[0;34m\u001b[0m\u001b[0m\n\u001b[1;32m    197\u001b[0m \u001b[0;34m\u001b[0m\u001b[0m\n\u001b[0;32m--> 198\u001b[0;31m     \u001b[0mrcount\u001b[0m \u001b[0;34m=\u001b[0m \u001b[0m_count_reduce_items\u001b[0m\u001b[0;34m(\u001b[0m\u001b[0marr\u001b[0m\u001b[0;34m,\u001b[0m \u001b[0maxis\u001b[0m\u001b[0;34m,\u001b[0m \u001b[0mkeepdims\u001b[0m\u001b[0;34m=\u001b[0m\u001b[0mkeepdims\u001b[0m\u001b[0;34m,\u001b[0m \u001b[0mwhere\u001b[0m\u001b[0;34m=\u001b[0m\u001b[0mwhere\u001b[0m\u001b[0;34m)\u001b[0m\u001b[0;34m\u001b[0m\u001b[0;34m\u001b[0m\u001b[0m\n\u001b[0m\u001b[1;32m    199\u001b[0m     \u001b[0;31m# Make this warning show up on top.\u001b[0m\u001b[0;34m\u001b[0m\u001b[0;34m\u001b[0m\u001b[0m\n\u001b[1;32m    200\u001b[0m     \u001b[0;32mif\u001b[0m \u001b[0mddof\u001b[0m \u001b[0;34m>=\u001b[0m \u001b[0mrcount\u001b[0m \u001b[0;32mif\u001b[0m \u001b[0mwhere\u001b[0m \u001b[0;32mis\u001b[0m \u001b[0;32mTrue\u001b[0m \u001b[0;32melse\u001b[0m \u001b[0mumr_any\u001b[0m\u001b[0;34m(\u001b[0m\u001b[0mddof\u001b[0m \u001b[0;34m>=\u001b[0m \u001b[0mrcount\u001b[0m\u001b[0;34m,\u001b[0m \u001b[0maxis\u001b[0m\u001b[0;34m=\u001b[0m\u001b[0;32mNone\u001b[0m\u001b[0;34m)\u001b[0m\u001b[0;34m:\u001b[0m\u001b[0;34m\u001b[0m\u001b[0;34m\u001b[0m\u001b[0m\n",
      "\u001b[0;32m~/opt/miniconda3/envs/ml135_env_sp21/lib/python3.9/site-packages/numpy/core/_methods.py\u001b[0m in \u001b[0;36m_count_reduce_items\u001b[0;34m(arr, axis, keepdims, where)\u001b[0m\n\u001b[1;32m     73\u001b[0m         \u001b[0mitems\u001b[0m \u001b[0;34m=\u001b[0m \u001b[0mnt\u001b[0m\u001b[0;34m.\u001b[0m\u001b[0mintp\u001b[0m\u001b[0;34m(\u001b[0m\u001b[0;36m1\u001b[0m\u001b[0;34m)\u001b[0m\u001b[0;34m\u001b[0m\u001b[0;34m\u001b[0m\u001b[0m\n\u001b[1;32m     74\u001b[0m         \u001b[0;32mfor\u001b[0m \u001b[0max\u001b[0m \u001b[0;32min\u001b[0m \u001b[0maxis\u001b[0m\u001b[0;34m:\u001b[0m\u001b[0;34m\u001b[0m\u001b[0;34m\u001b[0m\u001b[0m\n\u001b[0;32m---> 75\u001b[0;31m             \u001b[0mitems\u001b[0m \u001b[0;34m*=\u001b[0m \u001b[0marr\u001b[0m\u001b[0;34m.\u001b[0m\u001b[0mshape\u001b[0m\u001b[0;34m[\u001b[0m\u001b[0mmu\u001b[0m\u001b[0;34m.\u001b[0m\u001b[0mnormalize_axis_index\u001b[0m\u001b[0;34m(\u001b[0m\u001b[0max\u001b[0m\u001b[0;34m,\u001b[0m \u001b[0marr\u001b[0m\u001b[0;34m.\u001b[0m\u001b[0mndim\u001b[0m\u001b[0;34m)\u001b[0m\u001b[0;34m]\u001b[0m\u001b[0;34m\u001b[0m\u001b[0;34m\u001b[0m\u001b[0m\n\u001b[0m\u001b[1;32m     76\u001b[0m     \u001b[0;32melse\u001b[0m\u001b[0;34m:\u001b[0m\u001b[0;34m\u001b[0m\u001b[0;34m\u001b[0m\u001b[0m\n\u001b[1;32m     77\u001b[0m         \u001b[0;31m# TODO: Optimize case when `where` is broadcast along a non-reduction\u001b[0m\u001b[0;34m\u001b[0m\u001b[0;34m\u001b[0m\u001b[0m\n",
      "\u001b[0;31mAxisError\u001b[0m: axis 1 is out of bounds for array of dimension 1"
     ]
    }
   ],
   "source": [
    "def feature_engineering(d):\n",
    "    d_prime = np.array(d).std(axis=1)\n",
    "    return d_prime\n",
    "\n",
    "# trainX = feature_engineering(trainXs) \n",
    "# .reshape(60, 6)\n",
    "\n",
    "\n",
    "# w = feature_engineering(wave_Xs)\n",
    "# sw = feature_engineering(swipe_Xs)\n",
    "# sp = feature_engineering(spin_Xs) \n",
    "n = feature_engineering(new_Xs) "
   ]
  },
  {
   "cell_type": "code",
   "execution_count": 100,
   "id": "7b0c305f",
   "metadata": {},
   "outputs": [
    {
     "data": {
      "text/plain": [
       "(299, 6)"
      ]
     },
     "execution_count": 100,
     "metadata": {},
     "output_type": "execute_result"
    }
   ],
   "source": [
    "n.shape"
   ]
  },
  {
   "cell_type": "code",
   "execution_count": null,
   "id": "6c088fd0",
   "metadata": {},
   "outputs": [],
   "source": []
  }
 ],
 "metadata": {
  "kernelspec": {
   "display_name": "Python 3 (ipykernel)",
   "language": "python",
   "name": "python3"
  },
  "language_info": {
   "codemirror_mode": {
    "name": "ipython",
    "version": 3
   },
   "file_extension": ".py",
   "mimetype": "text/x-python",
   "name": "python",
   "nbconvert_exporter": "python",
   "pygments_lexer": "ipython3",
   "version": "3.9.7"
  }
 },
 "nbformat": 4,
 "nbformat_minor": 5
}
