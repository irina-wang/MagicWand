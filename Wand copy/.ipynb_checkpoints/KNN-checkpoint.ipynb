{
 "cells": [
  {
   "cell_type": "code",
   "execution_count": 1,
   "metadata": {},
   "outputs": [],
   "source": [
    "import numpy as np\n",
    "import pandas as pd\n",
    "\n",
    "from sklearn.datasets import make_blobs, make_circles\n",
    "from sklearn.neighbors import KNeighborsClassifier\n",
    "from sklearn import preprocessing\n",
    "\n",
    "import matplotlib.pyplot as plt\n",
    "from mpl_toolkits import mplot3d\n",
    "%matplotlib inline\n",
    "import seaborn as sns; sns.set()"
   ]
  },
  {
   "cell_type": "markdown",
   "metadata": {},
   "source": [
    " ## Import Data"
   ]
  },
  {
   "cell_type": "markdown",
   "metadata": {},
   "source": [
    "### Train"
   ]
  },
  {
   "cell_type": "code",
   "execution_count": 2,
   "metadata": {},
   "outputs": [],
   "source": [
    "SAMPLE_SIZE = 20"
   ]
  },
  {
   "cell_type": "code",
   "execution_count": 3,
   "metadata": {},
   "outputs": [],
   "source": [
    "# IMPORT DATA \n",
    "\n",
    "# data format: [gyro_x, gyro_y, gyro_z, accel_x, accel_y, accel_z]\n",
    "\n",
    "df.columns = ['gyro_x', 'gyro_y', 'gyro_z', 'accel_x', 'accel_y', 'accel_z']\n",
    "\n",
    "\n",
    "def import_category_data(label, sample_size):\n",
    "    name = str(label) + '_data'\n",
    "    data = []\n",
    "    for i in range(sample_size):\n",
    "        f = './' + str(label) + '/data_' + str(i+1) + '_np.csv'\n",
    "        data.append(pd.read_csv(f))\n",
    "    return data\n",
    "\n",
    "wave_Xs = import_category_data('wave', SAMPLE_SIZE)\n",
    "swipe_Xs = import_category_data('swipe', SAMPLE_SIZE)\n",
    "spin_Xs = import_category_data('spin', SAMPLE_SIZE)\n",
    "\n",
    "wave_y =  np.full(SAMPLE_SIZE, 0)\n",
    "swipe_y = np.full(SAMPLE_SIZE, 1)\n",
    "spin_y = np.full(SAMPLE_SIZE, 2)\n"
   ]
  },
  {
   "cell_type": "markdown",
   "metadata": {},
   "source": [
    "### Test"
   ]
  },
  {
   "cell_type": "code",
   "execution_count": 4,
   "metadata": {},
   "outputs": [],
   "source": [
    "# data format: [gyro_x, gyro_y, gyro_z, accel_x, accel_y, accel_z]\n",
    "def import_category_data(label, sample_size, index):\n",
    "    data = []\n",
    "    f = './' + str(label) + '/data_' + str(index) + '_np.csv'\n",
    "    data.append(pd.read_csv(f))\n",
    "    return data\n",
    "\n",
    "# import test data \n",
    "wave_testX = import_category_data('test', 1, 1)\n",
    "swipe_testX  = import_category_data('test', 1, 5)\n",
    "spin_testX  = import_category_data('test', 1, 8)"
   ]
  },
  {
   "cell_type": "markdown",
   "metadata": {},
   "source": [
    "## Feature Engineering "
   ]
  },
  {
   "cell_type": "markdown",
   "metadata": {},
   "source": [
    "### train"
   ]
  },
  {
   "cell_type": "code",
   "execution_count": 5,
   "metadata": {},
   "outputs": [],
   "source": [
    "# Take sd of one feature\n",
    "def feature_engineering(d, sample_size):\n",
    "    d_prime = np.full((sample_size,6), 0, float)\n",
    "    for i in range(sample_size):\n",
    "         d_prime[i] = np.std(d[i]).to_numpy()\n",
    "    return d_prime\n",
    "\n",
    "\n",
    "w = feature_engineering(wave_Xs, SAMPLE_SIZE)\n",
    "sw = feature_engineering(swipe_Xs, SAMPLE_SIZE)\n",
    "sp = feature_engineering(spin_Xs, SAMPLE_SIZE) "
   ]
  },
  {
   "cell_type": "code",
   "execution_count": 31,
   "metadata": {},
   "outputs": [
    {
     "ename": "TypeError",
     "evalue": "list indices must be integers or slices, not tuple",
     "output_type": "error",
     "traceback": [
      "\u001b[0;31m---------------------------------------------------------------------------\u001b[0m",
      "\u001b[0;31mTypeError\u001b[0m                                 Traceback (most recent call last)",
      "\u001b[0;32m/var/folders/gj/s8k6bb1n5wb72w67jbvp_gz00000gn/T/ipykernel_12395/2828937352.py\u001b[0m in \u001b[0;36m<module>\u001b[0;34m\u001b[0m\n\u001b[0;32m----> 1\u001b[0;31m \u001b[0mwave_Xs\u001b[0m\u001b[0;34m[\u001b[0m\u001b[0;34m:\u001b[0m\u001b[0;34m,\u001b[0m\u001b[0;36m0\u001b[0m\u001b[0;34m]\u001b[0m\u001b[0;34m\u001b[0m\u001b[0;34m\u001b[0m\u001b[0m\n\u001b[0m",
      "\u001b[0;31mTypeError\u001b[0m: list indices must be integers or slices, not tuple"
     ]
    }
   ],
   "source": [
    "wave_Xs[:,0]"
   ]
  },
  {
   "cell_type": "code",
   "execution_count": 6,
   "metadata": {},
   "outputs": [],
   "source": [
    "# Concat Xs, y\n",
    "t = np.append(w, sw)\n",
    "Xs = np.append(t, sp).reshape(60, 6)\n",
    "\n",
    "t = np.append(wave_y, swipe_y)\n",
    "y = np.append(t, spin_y)"
   ]
  },
  {
   "cell_type": "code",
   "execution_count": 341,
   "metadata": {},
   "outputs": [],
   "source": [
    "# scaler = preprocessing.StandardScaler().fit(Xs_)"
   ]
  },
  {
   "cell_type": "code",
   "execution_count": 7,
   "metadata": {},
   "outputs": [
    {
     "data": {
      "text/plain": [
       "array([[125.25158447, 374.74729933,  94.25408326],\n",
       "       [107.47796147, 353.72064526, 116.34606879],\n",
       "       [112.79156813, 473.74280769, 123.17757779],\n",
       "       [ 83.60918865, 318.90005104, 114.33411862],\n",
       "       [ 82.82428549, 370.66508659, 100.81457986],\n",
       "       [ 99.41347364, 407.2135523 , 103.73874091],\n",
       "       [156.32703164, 456.77457554, 138.76585828],\n",
       "       [140.55171633, 411.77649343, 122.36004038],\n",
       "       [106.40021   , 336.64341112, 111.33943188],\n",
       "       [132.21939205, 394.94993599,  93.52256406],\n",
       "       [ 55.38669991, 283.06073624,  60.90055745],\n",
       "       [ 68.50739293, 305.209348  ,  56.8878816 ],\n",
       "       [131.46390701, 302.77806165,  85.57460281],\n",
       "       [171.12115779, 322.67420613,  98.33228086],\n",
       "       [171.82126063, 406.36912676, 110.55171642],\n",
       "       [168.68286438, 442.18057873, 105.55901072],\n",
       "       [155.12805081, 508.2824727 , 146.23754064],\n",
       "       [121.3498713 , 438.25707554, 106.19684036],\n",
       "       [140.59791191, 425.94313778,  99.41407903],\n",
       "       [126.29217754, 419.33562524, 117.19641509],\n",
       "       [358.38118808,  76.96539855, 145.75818614],\n",
       "       [395.4383324 ,  82.46465872, 137.69461965],\n",
       "       [398.80225264,  84.13377494, 131.78192558],\n",
       "       [451.54137362,  88.23429742, 128.817474  ],\n",
       "       [393.27142103,  73.40402765, 124.69678466],\n",
       "       [382.43637207,  51.40608587, 120.42436601],\n",
       "       [414.58534588,  78.91923278, 136.66927157],\n",
       "       [468.38940211,  92.05494504, 126.77962213],\n",
       "       [472.3892798 , 112.29993406, 123.76847531],\n",
       "       [465.47090835, 113.51946833, 121.61517251],\n",
       "       [414.88579374,  80.50952592, 134.19889369],\n",
       "       [497.12314494, 107.69108611, 138.42968792],\n",
       "       [529.93925464, 125.70811024, 126.02255595],\n",
       "       [446.25260067, 106.15832297, 137.05301163],\n",
       "       [419.55349056, 113.97855137, 144.81590479],\n",
       "       [453.0712876 , 154.15671334,  97.66086199],\n",
       "       [443.23783509, 157.65670963, 122.33371345],\n",
       "       [426.67271426, 125.75272491, 137.97200297],\n",
       "       [438.11000742, 121.29819693, 149.31835108],\n",
       "       [325.9822624 , 111.87997115, 114.81533263],\n",
       "       [ 63.67165854,  84.18588354,  20.94434793],\n",
       "       [119.70893198, 100.8187893 ,  26.20484185],\n",
       "       [123.93533981,  87.56800941,  26.46835733],\n",
       "       [ 93.98996942,  81.48429442,  24.72039025],\n",
       "       [125.48499465,  83.98001814,  25.40629354],\n",
       "       [115.1326905 ,  77.54394977,  26.37259484],\n",
       "       [110.77410967,  89.65206142,  26.94541653],\n",
       "       [114.0040662 ,  73.62007626,  27.28158119],\n",
       "       [105.98698206,  73.88739807,  25.40449664],\n",
       "       [115.45876665,  70.00248951,  27.91646829],\n",
       "       [ 87.91406732,  74.17751887,  17.06894802],\n",
       "       [ 71.49675185,  67.85819976,  16.43864144],\n",
       "       [103.53703043,  74.32741712,  25.11261381],\n",
       "       [106.71129595,  74.280051  ,  28.07806838],\n",
       "       [115.33348342,  74.42001681,  24.4663781 ],\n",
       "       [107.16950895,  76.4804268 ,  26.43494894],\n",
       "       [106.0828266 ,  70.96270294,  24.19897932],\n",
       "       [100.53690507,  69.81881617,  24.48900104],\n",
       "       [100.11462093,  60.17699058,  24.45043235],\n",
       "       [ 80.66497031,  65.27029942,  26.74566896]])"
      ]
     },
     "execution_count": 7,
     "metadata": {},
     "output_type": "execute_result"
    }
   ],
   "source": [
    "# def select_salient_features(d, sample_size):\n",
    "#     d_prime = np.full((sample_size,6), 0, float)\n",
    "#     for i in range(sample_size):\n",
    "#          d_prime[i] = np.std(d[i]).to_numpy()\n",
    "#     return d_prime\n",
    "\n",
    "\n",
    "# select gyro y, gyro z, accel x\n",
    "Xs_ = Xs[:,[1,2,3]]\n",
    "Xs_[:, 2] = Xs_[:, 2] * 100\n",
    "\n",
    "Xs_"
   ]
  },
  {
   "cell_type": "markdown",
   "metadata": {},
   "source": [
    "### Scale the Train Data"
   ]
  },
  {
   "cell_type": "code",
   "execution_count": 473,
   "metadata": {},
   "outputs": [],
   "source": [
    "# scaler = preprocessing.StandardScaler().fit(Xs_)\n",
    "# X_Train_scaled = scaler.transform(Xs_)"
   ]
  },
  {
   "cell_type": "markdown",
   "metadata": {},
   "source": [
    "### test "
   ]
  },
  {
   "cell_type": "code",
   "execution_count": 8,
   "metadata": {},
   "outputs": [],
   "source": [
    "w_ = feature_engineering(wave_testX, 1)\n",
    "sw_ = feature_engineering(swipe_testX, 1)\n",
    "sp_ = feature_engineering(spin_testX, 1)"
   ]
  },
  {
   "cell_type": "code",
   "execution_count": 9,
   "metadata": {},
   "outputs": [],
   "source": [
    "w_3 = w_[:,[1,2,3]]\n",
    "sw_3 = sw_[:,[1,2,3]]\n",
    "sp_3 = sp_[:,[1,2,3]]"
   ]
  },
  {
   "cell_type": "code",
   "execution_count": 10,
   "metadata": {},
   "outputs": [],
   "source": [
    "w_3[:, 2] = w_3[:, 2] * 100\n",
    "sw_3[:, 2] = sw_3[:, 2] * 100\n",
    "sp_3[:, 2] = sp_3[:, 2] * 100"
   ]
  },
  {
   "cell_type": "code",
   "execution_count": 11,
   "metadata": {},
   "outputs": [
    {
     "name": "stdout",
     "output_type": "stream",
     "text": [
      "[[ 35.99245196 229.81406114  41.62735382]]\n",
      "[[320.61010555  60.40245273  54.37630234]]\n",
      "[[ 81.15606487 108.86444415  28.36972221]]\n"
     ]
    }
   ],
   "source": [
    "print(w_3)\n",
    "print(sw_3)\n",
    "print(sp_3)"
   ]
  },
  {
   "cell_type": "code",
   "execution_count": 428,
   "metadata": {},
   "outputs": [],
   "source": [
    "# x_Test_scaled_w_3 = scaler.transform(w_3)\n",
    "# x_Test_scaled_sw_3 = scaler.transform(sw_3)\n",
    "# x_Test_scaled_sp_3 = scaler.transform(sp_3)"
   ]
  },
  {
   "cell_type": "markdown",
   "metadata": {},
   "source": [
    "## Models"
   ]
  },
  {
   "cell_type": "code",
   "execution_count": 429,
   "metadata": {},
   "outputs": [],
   "source": [
    "# SVC (linear)\n",
    "mSVC = SVC(kernel='linear').fit(Xs, y)\n",
    "mSVC_ = SVC(kernel='linear').fit(Xs_, y)"
   ]
  },
  {
   "cell_type": "code",
   "execution_count": 438,
   "metadata": {},
   "outputs": [],
   "source": [
    "rbf = SVC(kernel='rbf', gamma=0.5, C=0.1).fit(Xs_, y)\n",
    "poly = SVC(kernel='poly', degree=3, C=1).fit(Xs_, y)"
   ]
  },
  {
   "cell_type": "code",
   "execution_count": 358,
   "metadata": {},
   "outputs": [],
   "source": [
    "# mSVC = SVC(kernel='linear').fit(X_Train_scaled, y)\n",
    "mSVC_ = SVC(kernel='linear').fit(X_Train_scaled, y)"
   ]
  },
  {
   "cell_type": "code",
   "execution_count": 12,
   "metadata": {},
   "outputs": [
    {
     "data": {
      "text/plain": [
       "KNeighborsClassifier(n_neighbors=3)"
      ]
     },
     "execution_count": 12,
     "metadata": {},
     "output_type": "execute_result"
    }
   ],
   "source": [
    "# KNN\n",
    "mKNN = KNeighborsClassifier(n_neighbors=3)\n",
    "mKNN_ = mKNN.fit(Xs,y)\n",
    "# mKNN__ = mKNN.fit(Xs_, y)\n",
    "\n",
    "mKNN_"
   ]
  },
  {
   "cell_type": "code",
   "execution_count": 314,
   "metadata": {},
   "outputs": [
    {
     "data": {
      "text/plain": [
       "(60, 6)"
      ]
     },
     "execution_count": 314,
     "metadata": {},
     "output_type": "execute_result"
    }
   ],
   "source": []
  },
  {
   "cell_type": "markdown",
   "metadata": {},
   "source": [
    "## Prediction"
   ]
  },
  {
   "cell_type": "code",
   "execution_count": 388,
   "metadata": {},
   "outputs": [
    {
     "data": {
      "text/plain": [
       "array([0])"
      ]
     },
     "execution_count": 388,
     "metadata": {},
     "output_type": "execute_result"
    }
   ],
   "source": [
    "mSVC.predict(sp_.reshape(1,-1))"
   ]
  },
  {
   "cell_type": "code",
   "execution_count": 432,
   "metadata": {},
   "outputs": [
    {
     "data": {
      "text/plain": [
       "array([2])"
      ]
     },
     "execution_count": 432,
     "metadata": {},
     "output_type": "execute_result"
    }
   ],
   "source": [
    "mSVC_.predict(w_3.reshape(1,-1))"
   ]
  },
  {
   "cell_type": "code",
   "execution_count": 445,
   "metadata": {},
   "outputs": [
    {
     "data": {
      "text/plain": [
       "array([0])"
      ]
     },
     "execution_count": 445,
     "metadata": {},
     "output_type": "execute_result"
    }
   ],
   "source": [
    "poly.predict(sp_3.reshape(1,-1))"
   ]
  },
  {
   "cell_type": "code",
   "execution_count": 361,
   "metadata": {},
   "outputs": [
    {
     "data": {
      "text/plain": [
       "array([1])"
      ]
     },
     "execution_count": 361,
     "metadata": {},
     "output_type": "execute_result"
    }
   ],
   "source": [
    "mSVC_.predict(x_Test_scaled_sp_3.reshape(1,-1))"
   ]
  },
  {
   "cell_type": "code",
   "execution_count": 259,
   "metadata": {},
   "outputs": [
    {
     "data": {
      "text/plain": [
       "(1, 6)"
      ]
     },
     "execution_count": 259,
     "metadata": {},
     "output_type": "execute_result"
    }
   ],
   "source": [
    "w_.shape"
   ]
  },
  {
   "cell_type": "code",
   "execution_count": 257,
   "metadata": {},
   "outputs": [
    {
     "data": {
      "text/plain": [
       "(60, 6)"
      ]
     },
     "execution_count": 257,
     "metadata": {},
     "output_type": "execute_result"
    }
   ],
   "source": [
    "Xs.shape"
   ]
  },
  {
   "cell_type": "code",
   "execution_count": 448,
   "metadata": {},
   "outputs": [],
   "source": [
    "# # mKNN_.predict(w_.squeeze())\n",
    "\n",
    "# mKNN_.predict(np.zeros((60,1)))\n",
    "\n",
    "# np.random.rand(1,60)"
   ]
  },
  {
   "cell_type": "code",
   "execution_count": null,
   "metadata": {},
   "outputs": [],
   "source": [
    "def predict_model(model,data):\n",
    "     data = np.array(data)\n",
    "     if np.any(np.isnan(data)) or np.any(np.isinf(data)):\n",
    "          return 0\n",
    "     return model.predict(data.reshape(1,-1))[0]"
   ]
  },
  {
   "cell_type": "markdown",
   "metadata": {},
   "source": [
    "## Helper Functions"
   ]
  },
  {
   "cell_type": "code",
   "execution_count": null,
   "metadata": {},
   "outputs": [],
   "source": [
    "gyro_x = wave_data[0].iloc[:, 0].values\n",
    "gyro_y = wave_data[0].iloc[:, 1].values\n",
    "gyro_z = wave_data[0].iloc[:, 2].values\n",
    "accel_x = wave_data[0].iloc[:, 3].values\n",
    "accel_y = wave_data[0].iloc[:, 4].values\n",
    "accel_z = wave_data[0].iloc[:, 5].values\n",
    "\n",
    "\n",
    "def check_data_pattern(d):\n",
    "    x = np.linspace(0, len(d), len(d))\n",
    "    y = d\n",
    "\n",
    "    plt.plot(x, y, 'o', color='black')"
   ]
  },
  {
   "cell_type": "code",
   "execution_count": 446,
   "metadata": {},
   "outputs": [],
   "source": [
    "def plot_sets_3d(Xs, ys):\n",
    "    \"\"\"Plots a 3-dimensional (X), 3-class (y) data-set.\"\"\"\n",
    "    axes = plt.axes(projection='3d')\n",
    "        \n",
    "    X0, X1, X2 = Xs[ys==0], Xs[ys==1], Xs[ys==2], \n",
    "    axes.scatter(X0[:, 0], X0[:, 1], X0[:, 2], c='blue', s=50)\n",
    "    axes.scatter(X1[:, 0], X1[:, 1], X1[:, 2], c='red', s=50, marker='D')\n",
    "    axes.scatter(X2[:, 0], X2[:, 1], X2[:, 2], c='green', s=50, marker='D')"
   ]
  },
  {
   "cell_type": "code",
   "execution_count": 447,
   "metadata": {},
   "outputs": [
    {
     "data": {
      "image/png": "[encoded data removed]",
      "text/plain": [
       "<Figure size 432x288 with 1 Axes>"
      ]
     },
     "metadata": {},
     "output_type": "display_data"
    }
   ],
   "source": [
    " plot_sets_3d(Xs, y)"
   ]
  },
  {
   "cell_type": "code",
   "execution_count": 13,
   "metadata": {},
   "outputs": [
    {
     "data": {
      "text/plain": [
       "array([0])"
      ]
     },
     "execution_count": 13,
     "metadata": {},
     "output_type": "execute_result"
    }
   ],
   "source": [
    "knn_clf = KNeighborsClassifier(n_neighbors=5)\n",
    "knn_clf.fit(Xs_, y)\n",
    "ypred=knn_clf.predict(w_3)\n",
    "ypred"
   ]
  },
  {
   "cell_type": "code",
   "execution_count": null,
   "metadata": {},
   "outputs": [],
   "source": []
  },
  {
   "cell_type": "code",
   "execution_count": null,
   "metadata": {},
   "outputs": [],
   "source": [
    "# sp - 0 \n",
    "# sw - 1\n",
    "# w - 2"
   ]
  }
 ],
 "metadata": {
  "interpreter": {
   "hash": "7b34b089ce0dfc9935940e0a22050b2949fa617f7a2b73925623c261bed16aeb"
  },
  "kernelspec": {
   "display_name": "Python 3 (ipykernel)",
   "language": "python",
   "name": "python3"
  },
  "language_info": {
   "codemirror_mode": {
    "name": "ipython",
    "version": 3
   },
   "file_extension": ".py",
   "mimetype": "text/x-python",
   "name": "python",
   "nbconvert_exporter": "python",
   "pygments_lexer": "ipython3",
   "version": "3.9.7"
  }
 },
 "nbformat": 4,
 "nbformat_minor": 2
}
