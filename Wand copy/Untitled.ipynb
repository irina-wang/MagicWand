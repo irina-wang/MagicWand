{
 "cells": [
  {
   "cell_type": "code",
   "execution_count": 102,
   "id": "bc296b76",
   "metadata": {},
   "outputs": [],
   "source": [
    "import numpy as np\n",
    "import pandas as pd\n"
   ]
  },
  {
   "cell_type": "code",
   "execution_count": 103,
   "id": "8e682fa7",
   "metadata": {},
   "outputs": [],
   "source": [
    "from sklearn.neighbors import KNeighborsClassifier"
   ]
  },
  {
   "cell_type": "code",
   "execution_count": 104,
   "id": "f8a04d81",
   "metadata": {},
   "outputs": [],
   "source": [
    "SAMPLE_SIZE = 20\n",
    "\n",
    "def import_category_data(label, sample_size):\n",
    "    data = []\n",
    "    for i in range(sample_size):\n",
    "        f = './' + str(label) + '/data_' + str(i+1) + '_np.csv'\n",
    "        data.append(pd.read_csv(f))\n",
    "    return data\n",
    "\n",
    "wave_Xs = import_category_data('wave', SAMPLE_SIZE)\n",
    "swipe_Xs = import_category_data('swipe', SAMPLE_SIZE)\n",
    "spin_Xs = import_category_data('spin', SAMPLE_SIZE)\n",
    "new_Xs = import_category_data('new', SAMPLE_SIZE)"
   ]
  },
  {
   "cell_type": "code",
   "execution_count": 142,
   "id": "34ace208",
   "metadata": {},
   "outputs": [],
   "source": [
    "SAMPLE_SIZE = 20\n",
    "\n",
    "def import_data(label,n):\n",
    "    data = np.zeros((20,300,6))\n",
    "    for i in range(n):\n",
    "        f = './' + str(label) + '/data_' + str(i+1) + '_np.csv'\n",
    "#         data.append(pd.read_csv(f))\n",
    "#         data.append(np.loadtxt(f, delimiter=','))\n",
    "        data[i] = np.loadtxt(f, delimiter=',')\n",
    "    return data\n",
    "\n",
    "# wave_Xs = import_category_data('wave', SAMPLE_SIZE)\n",
    "# swipe_Xs = import_category_data('swipe', SAMPLE_SIZE)\n",
    "# spin_Xs = import_category_data('spin', SAMPLE_SIZE)\n",
    "new_Xs = import_data('new', SAMPLE_SIZE)"
   ]
  },
  {
   "cell_type": "code",
   "execution_count": 144,
   "id": "99445966",
   "metadata": {},
   "outputs": [
    {
     "data": {
      "text/plain": [
       "(20, 300, 6)"
      ]
     },
     "execution_count": 144,
     "metadata": {},
     "output_type": "execute_result"
    }
   ],
   "source": [
    "new_Xs.shape"
   ]
  },
  {
   "cell_type": "code",
   "execution_count": 108,
   "id": "ad279c38",
   "metadata": {},
   "outputs": [],
   "source": [
    "# data = pd.append(pd.read_csv('./wave/data_1_np.csv'))\n",
    "#data"
   ]
  },
  {
   "cell_type": "code",
   "execution_count": 163,
   "id": "cadcd3c5",
   "metadata": {},
   "outputs": [],
   "source": [
    "wave_y =  np.full(SAMPLE_SIZE, 0)\n",
    "swipe_y = np.full(SAMPLE_SIZE, 1)\n",
    "spin_y = np.full(SAMPLE_SIZE, 2)\n",
    "new_y = np.full(SAMPLE_SIZE, 3)\n",
    "\n",
    "trainY = np.concatenate((wave_y,swipe_y,spin_y))"
   ]
  },
  {
   "cell_type": "code",
   "execution_count": 166,
   "id": "84c86592",
   "metadata": {},
   "outputs": [
    {
     "data": {
      "text/plain": [
       "(60,)"
      ]
     },
     "execution_count": 166,
     "metadata": {},
     "output_type": "execute_result"
    }
   ],
   "source": [
    "trainY.shape"
   ]
  },
  {
   "cell_type": "code",
   "execution_count": 111,
   "id": "26f1c986",
   "metadata": {},
   "outputs": [
    {
     "name": "stderr",
     "output_type": "stream",
     "text": [
      "/var/folders/gj/s8k6bb1n5wb72w67jbvp_gz00000gn/T/ipykernel_49136/2653805197.py:1: VisibleDeprecationWarning: Creating an ndarray from ragged nested sequences (which is a list-or-tuple of lists-or-tuples-or ndarrays with different lengths or shapes) is deprecated. If you meant to do this, you must specify 'dtype=object' when creating the ndarray.\n",
      "  trainXs = np.concatenate(((np.array(wave_Xs),np.array(swipe_Xs))), axis = 0)\n"
     ]
    }
   ],
   "source": [
    "trainXs = np.concatenate(((np.array(wave_Xs),np.array(swipe_Xs))), axis = 0)\n"
   ]
  },
  {
   "cell_type": "code",
   "execution_count": 90,
   "id": "413a2281",
   "metadata": {},
   "outputs": [],
   "source": [
    "# Importing Testing Data\n",
    "def import_category_data(label, sample_size, index):\n",
    "    data = []\n",
    "    f = './' + str(label) + '/data_' + str(index) + '_np.csv'\n",
    "    data.append(pd.read_csv(f))\n",
    "    return data\n",
    "\n",
    "# import test data \n",
    "wave_testX = import_category_data('test', 1, 1)\n",
    "swipe_testX  = import_category_data('test', 1, 5)\n",
    "spin_testX  = import_category_data('test', 1, 8)"
   ]
  },
  {
   "cell_type": "code",
   "execution_count": 151,
   "id": "c8b9c364",
   "metadata": {},
   "outputs": [
    {
     "data": {
      "text/plain": [
       "(20, 300, 3)"
      ]
     },
     "execution_count": 151,
     "metadata": {},
     "output_type": "execute_result"
    }
   ],
   "source": [
    "new_Xs[:,:,[1,2,3]].shape"
   ]
  },
  {
   "cell_type": "code",
   "execution_count": 158,
   "id": "e1e9a261",
   "metadata": {},
   "outputs": [],
   "source": [
    "def feature_engineering(d):\n",
    "    d_prime = np.array(d).std(axis=1)\n",
    "    d_prime[:, 3] = d_prime[:, 3] * 100 # scale accel x\n",
    "    return d_prime[:,[1,2,3]] # select gyro y, gyro z, accel x\n",
    "\n",
    "n = feature_engineering(new_Xs) "
   ]
  },
  {
   "cell_type": "code",
   "execution_count": 159,
   "id": "b0b1aa08",
   "metadata": {},
   "outputs": [
    {
     "data": {
      "text/plain": [
       "(20, 3)"
      ]
     },
     "execution_count": 159,
     "metadata": {},
     "output_type": "execute_result"
    }
   ],
   "source": [
    "n.shape"
   ]
  },
  {
   "cell_type": "code",
   "execution_count": 160,
   "id": "192aece6",
   "metadata": {},
   "outputs": [
    {
     "data": {
      "text/plain": [
       "array([[263.09761847, 300.87199583,  95.10308417],\n",
       "       [195.09381073, 254.45400895,  68.83806422],\n",
       "       [ 70.21403693, 232.20532093,  41.43778023],\n",
       "       [160.01623155, 298.27526831,  83.66240817],\n",
       "       [218.79265307, 336.40266194, 105.17097216],\n",
       "       [ 33.0425093 ,  84.51209302,  22.08356713],\n",
       "       [123.55648846, 269.47769943,  69.01591398],\n",
       "       [ 83.79012985, 212.45692375,  51.34000959],\n",
       "       [ 41.305951  , 197.44035821,  52.31270304],\n",
       "       [ 34.19664867, 196.10812695,  52.18541195],\n",
       "       [ 27.0760351 , 165.06154943,  48.18034643],\n",
       "       [ 41.21421347, 247.81561697,  65.16739244],\n",
       "       [ 34.23895771, 224.21826873,  44.51750354],\n",
       "       [ 33.7050861 , 217.62283134,  43.28940829],\n",
       "       [ 57.03007446, 225.90084381,  55.3025432 ],\n",
       "       [ 62.55057559, 227.65869139,  46.69798524],\n",
       "       [ 62.01139926, 203.74381239,  41.99503532],\n",
       "       [ 99.00149052, 258.22080524,  69.99746195],\n",
       "       [ 60.63537341, 250.0308421 ,  59.05176629],\n",
       "       [ 48.52722001, 217.58393779,  36.36046624]])"
      ]
     },
     "execution_count": 160,
     "metadata": {},
     "output_type": "execute_result"
    }
   ],
   "source": [
    "n"
   ]
  },
  {
   "cell_type": "code",
   "execution_count": 100,
   "id": "ddac44c8",
   "metadata": {},
   "outputs": [
    {
     "data": {
      "text/plain": [
       "(299, 6)"
      ]
     },
     "execution_count": 100,
     "metadata": {},
     "output_type": "execute_result"
    }
   ],
   "source": [
    "n.shape"
   ]
  },
  {
   "cell_type": "code",
   "execution_count": 162,
   "id": "47a248b7",
   "metadata": {},
   "outputs": [
    {
     "data": {
      "text/plain": [
       "(40, 3)"
      ]
     },
     "execution_count": 162,
     "metadata": {},
     "output_type": "execute_result"
    }
   ],
   "source": [
    "np.concatenate((n,n)).shape"
   ]
  },
  {
   "cell_type": "code",
   "execution_count": null,
   "id": "e8ad2b5e",
   "metadata": {},
   "outputs": [],
   "source": []
  }
 ],
 "metadata": {
  "kernelspec": {
   "display_name": "Python 3 (ipykernel)",
   "language": "python",
   "name": "python3"
  },
  "language_info": {
   "codemirror_mode": {
    "name": "ipython",
    "version": 3
   },
   "file_extension": ".py",
   "mimetype": "text/x-python",
   "name": "python",
   "nbconvert_exporter": "python",
   "pygments_lexer": "ipython3",
   "version": "3.9.7"
  }
 },
 "nbformat": 4,
 "nbformat_minor": 5
}
