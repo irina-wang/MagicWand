{
 "cells": [
  {
   "cell_type": "code",
   "execution_count": 156,
   "metadata": {},
   "outputs": [],
   "source": [
    "import numpy as np\n",
    "import pandas as pd\n",
    "\n",
    "from sklearn.datasets import make_blobs, make_circles\n",
    "from sklearn.svm import SVC\n",
    "from sklearn.neighbors import KNeighborsClassifier\n",
    "\n",
    "import matplotlib.pyplot as plt\n",
    "from mpl_toolkits import mplot3d\n",
    "%matplotlib inline\n",
    "import seaborn as sns; sns.set()"
   ]
  },
  {
   "cell_type": "markdown",
   "metadata": {},
   "source": [
    " ## Import Data"
   ]
  },
  {
   "cell_type": "code",
   "execution_count": 148,
   "metadata": {},
   "outputs": [],
   "source": [
    "SAMPLE_SIZE = 20"
   ]
  },
  {
   "cell_type": "code",
   "execution_count": 149,
   "metadata": {},
   "outputs": [],
   "source": [
    "# IMPORT DATA \n",
    "\n",
    "# data format: [gyro_x, gyro_y, gyro_z, accel_x, accel_y, accel_z]\n",
    "def import_category_data(label, sample_size):\n",
    "    name = str(label) + '_data'\n",
    "    data = []\n",
    "    for i in range(sample_size):\n",
    "        f = './' + str(label) + '/data_' + str(i+1) + '_np.csv'\n",
    "        data.append(pd.read_csv(f))\n",
    "    return data\n",
    "\n",
    "wave_Xs = import_category_data('wave', SAMPLE_SIZE)\n",
    "swipe_Xs = import_category_data('swipe', SAMPLE_SIZE)\n",
    "spin_Xs = import_category_data('spin', SAMPLE_SIZE)\n",
    "\n",
    "wave_y =  np.full(SAMPLE_SIZE, 0)\n",
    "swipe_y = np.full(SAMPLE_SIZE, 1)\n",
    "spin_y = np.full(SAMPLE_SIZE, 2)"
   ]
  },
  {
   "cell_type": "code",
   "execution_count": 150,
   "metadata": {},
   "outputs": [],
   "source": [
    "# Take sd of one feature\n",
    "def feature_engineering(d, sample_size):\n",
    "    d_prime = np.full((sample_size,6), 0, float)\n",
    "    for i in range(sample_size):\n",
    "         d_prime[i] = np.std(d[i]).to_numpy()\n",
    "    return d_prime\n",
    "    \n",
    "w = feature_engineering(wave_Xs, SAMPLE_SIZE)\n",
    "sw = feature_engineering(swipe_Xs, SAMPLE_SIZE)\n",
    "sp = feature_engineering(spin_Xs, SAMPLE_SIZE)"
   ]
  },
  {
   "cell_type": "code",
   "execution_count": 151,
   "metadata": {},
   "outputs": [],
   "source": [
    "# Concat Xs, y\n",
    "t = np.append(w, sw)\n",
    "Xs = np.append(t, sp).reshape(60, 6)\n",
    "\n",
    "\n",
    "t = np.append(wave_y, swipe_y)\n",
    "y = np.append(t, spin_y)\n"
   ]
  },
  {
   "cell_type": "code",
   "execution_count": 152,
   "metadata": {},
   "outputs": [
    {
     "data": {
      "text/plain": [
       "array([[7.76748047e+01, 3.58381188e+02, 7.69653985e+01, 1.45758186e+00,\n",
       "        8.10357854e-01, 2.55361034e+00],\n",
       "       [9.40090771e+01, 3.95438332e+02, 8.24646587e+01, 1.37694620e+00,\n",
       "        8.85281571e-01, 2.71386565e+00],\n",
       "       [7.25152428e+01, 3.98802253e+02, 8.41337749e+01, 1.31781926e+00,\n",
       "        9.51889156e-01, 2.76541048e+00],\n",
       "       [8.11640330e+01, 4.51541374e+02, 8.82342974e+01, 1.28817474e+00,\n",
       "        1.05021622e+00, 2.86145137e+00],\n",
       "       [6.94885067e+01, 3.93271421e+02, 7.34040276e+01, 1.24696785e+00,\n",
       "        7.22727644e-01, 2.80470348e+00],\n",
       "       [7.72818093e+01, 3.82436372e+02, 5.14060859e+01, 1.20424366e+00,\n",
       "        6.51487693e-01, 2.82229218e+00],\n",
       "       [8.85831912e+01, 4.14585346e+02, 7.89192328e+01, 1.36669272e+00,\n",
       "        9.46801339e-01, 2.74562196e+00],\n",
       "       [8.46022216e+01, 4.68389402e+02, 9.20549450e+01, 1.26779622e+00,\n",
       "        1.01968119e+00, 2.88717263e+00],\n",
       "       [1.00062564e+02, 4.72389280e+02, 1.12299934e+02, 1.23768475e+00,\n",
       "        1.10107326e+00, 2.87912457e+00],\n",
       "       [9.92367049e+01, 4.65470908e+02, 1.13519468e+02, 1.21615173e+00,\n",
       "        1.11786393e+00, 2.79893838e+00],\n",
       "       [9.45175826e+01, 4.14885794e+02, 8.05095259e+01, 1.34198894e+00,\n",
       "        8.93297386e-01, 2.70720174e+00],\n",
       "       [1.11000946e+02, 4.97123145e+02, 1.07691086e+02, 1.38429688e+00,\n",
       "        1.34868693e+00, 2.83259405e+00],\n",
       "       [9.20643272e+01, 5.29939255e+02, 1.25708110e+02, 1.26022556e+00,\n",
       "        1.70128649e+00, 2.96524108e+00],\n",
       "       [9.52201952e+01, 4.46252601e+02, 1.06158323e+02, 1.37053012e+00,\n",
       "        1.17559458e+00, 2.53275280e+00],\n",
       "       [8.90067670e+01, 4.19553491e+02, 1.13978551e+02, 1.44815905e+00,\n",
       "        1.03917874e+00, 2.43309882e+00],\n",
       "       [1.13380491e+02, 4.53071288e+02, 1.54156713e+02, 9.76608620e-01,\n",
       "        1.63717749e+00, 2.91518601e+00],\n",
       "       [1.16096011e+02, 4.43237835e+02, 1.57656710e+02, 1.22333713e+00,\n",
       "        1.68497806e+00, 2.72426903e+00],\n",
       "       [8.42871307e+01, 4.26672714e+02, 1.25752725e+02, 1.37972003e+00,\n",
       "        1.40924672e+00, 2.85538031e+00],\n",
       "       [1.00426135e+02, 4.38110007e+02, 1.21298197e+02, 1.49318351e+00,\n",
       "        1.38654107e+00, 2.82237879e+00],\n",
       "       [8.77410533e+01, 3.25982262e+02, 1.11879971e+02, 1.14815333e+00,\n",
       "        1.07722872e+00, 2.79026858e+00],\n",
       "       [7.88752681e+01, 1.25251584e+02, 3.74747299e+02, 9.42540833e-01,\n",
       "        2.48021359e+00, 1.07919681e+00],\n",
       "       [7.11707172e+01, 1.07477961e+02, 3.53720645e+02, 1.16346069e+00,\n",
       "        2.27307229e+00, 9.25709857e-01],\n",
       "       [9.32250629e+01, 1.12791568e+02, 4.73742808e+02, 1.23177578e+00,\n",
       "        2.52067080e+00, 9.53132603e-01],\n",
       "       [1.03623336e+02, 8.36091887e+01, 3.18900051e+02, 1.14334119e+00,\n",
       "        1.83892848e+00, 7.87207883e-01],\n",
       "       [7.34577918e+01, 8.28242855e+01, 3.70665087e+02, 1.00814580e+00,\n",
       "        2.07685497e+00, 7.67838609e-01],\n",
       "       [5.22494679e+01, 9.94134736e+01, 4.07213552e+02, 1.03738741e+00,\n",
       "        2.03126374e+00, 8.35529802e-01],\n",
       "       [9.42608195e+01, 1.56327032e+02, 4.56774576e+02, 1.38765858e+00,\n",
       "        2.67591401e+00, 1.21848238e+00],\n",
       "       [7.02323224e+01, 1.40551716e+02, 4.11776493e+02, 1.22360040e+00,\n",
       "        2.06576473e+00, 1.19742628e+00],\n",
       "       [8.27748773e+01, 1.06400210e+02, 3.36643411e+02, 1.11339432e+00,\n",
       "        2.23780978e+00, 1.00363474e+00],\n",
       "       [6.69539602e+01, 1.32219392e+02, 3.94949936e+02, 9.35225641e-01,\n",
       "        2.39062989e+00, 9.23881893e-01],\n",
       "       [6.34715441e+01, 5.53866999e+01, 2.83060736e+02, 6.09005575e-01,\n",
       "        2.04737119e+00, 5.41293503e-01],\n",
       "       [4.20469878e+01, 6.85073929e+01, 3.05209348e+02, 5.68878816e-01,\n",
       "        2.01992363e+00, 5.30457950e-01],\n",
       "       [1.28370928e+02, 1.31463907e+02, 3.02778062e+02, 8.55746028e-01,\n",
       "        1.90884282e+00, 9.26294264e-01],\n",
       "       [7.07862228e+01, 1.71121158e+02, 3.22674206e+02, 9.83322809e-01,\n",
       "        1.95918838e+00, 1.06406624e+00],\n",
       "       [8.51231392e+01, 1.71821261e+02, 4.06369127e+02, 1.10551716e+00,\n",
       "        2.61401014e+00, 1.30230996e+00],\n",
       "       [7.43623876e+01, 1.68682864e+02, 4.42180579e+02, 1.05559011e+00,\n",
       "        2.74503715e+00, 1.29801679e+00],\n",
       "       [1.03859076e+02, 1.55128051e+02, 5.08282473e+02, 1.46237541e+00,\n",
       "        3.10669895e+00, 1.59300293e+00],\n",
       "       [8.71969388e+01, 1.21349871e+02, 4.38257076e+02, 1.06196840e+00,\n",
       "        2.99888855e+00, 1.21474365e+00],\n",
       "       [7.80603563e+01, 1.40597912e+02, 4.25943138e+02, 9.94140790e-01,\n",
       "        2.87997086e+00, 1.29580134e+00],\n",
       "       [8.02449031e+01, 1.26292178e+02, 4.19335625e+02, 1.17196415e+00,\n",
       "        2.50487897e+00, 1.14062789e+00],\n",
       "       [1.28930590e+03, 6.36716585e+01, 8.41858835e+01, 2.09443479e-01,\n",
       "        1.02220765e+00, 1.06327963e+00],\n",
       "       [1.54996777e+03, 1.19708932e+02, 1.00818789e+02, 2.62048418e-01,\n",
       "        1.69521560e+00, 1.21632933e+00],\n",
       "       [1.45754277e+03, 1.23935340e+02, 8.75680094e+01, 2.64683573e-01,\n",
       "        1.10063286e+00, 1.03970920e+00],\n",
       "       [1.23862297e+03, 9.39899694e+01, 8.14842944e+01, 2.47203903e-01,\n",
       "        1.06666721e+00, 1.09569267e+00],\n",
       "       [1.54983116e+03, 1.25484995e+02, 8.39800181e+01, 2.54062935e-01,\n",
       "        1.04541594e+00, 1.01326786e+00],\n",
       "       [1.39092543e+03, 1.15132690e+02, 7.75439498e+01, 2.63725948e-01,\n",
       "        1.06899262e+00, 9.87565344e-01],\n",
       "       [1.53836866e+03, 1.10774110e+02, 8.96520614e+01, 2.69454165e-01,\n",
       "        1.00353061e+00, 8.58688611e-01],\n",
       "       [1.55915745e+03, 1.14004066e+02, 7.36200763e+01, 2.72815812e-01,\n",
       "        9.42128555e-01, 8.29693160e-01],\n",
       "       [1.53897186e+03, 1.05986982e+02, 7.38873981e+01, 2.54044966e-01,\n",
       "        9.15040605e-01, 7.12396813e-01],\n",
       "       [1.43077357e+03, 1.15458767e+02, 7.00024895e+01, 2.79164683e-01,\n",
       "        1.13837561e+00, 9.49936455e-01],\n",
       "       [1.17230103e+03, 8.79140673e+01, 7.41775189e+01, 1.70689480e-01,\n",
       "        7.88362992e-01, 8.34581291e-01],\n",
       "       [1.42947443e+03, 7.14967519e+01, 6.78581998e+01, 1.64386414e-01,\n",
       "        5.80010312e-01, 8.43810619e-01],\n",
       "       [1.44338610e+03, 1.03537030e+02, 7.43274171e+01, 2.51126138e-01,\n",
       "        8.46660867e-01, 1.09189345e+00],\n",
       "       [1.49064271e+03, 1.06711296e+02, 7.42800510e+01, 2.80780684e-01,\n",
       "        8.97518182e-01, 9.72170974e-01],\n",
       "       [1.41704567e+03, 1.15333483e+02, 7.44200168e+01, 2.44663781e-01,\n",
       "        7.78541966e-01, 8.02747770e-01],\n",
       "       [1.45156429e+03, 1.07169509e+02, 7.64804268e+01, 2.64349489e-01,\n",
       "        9.27938412e-01, 8.41331245e-01],\n",
       "       [1.40530670e+03, 1.06082827e+02, 7.09627029e+01, 2.41989793e-01,\n",
       "        7.73908700e-01, 6.97250375e-01],\n",
       "       [1.42309733e+03, 1.00536905e+02, 6.98188162e+01, 2.44890010e-01,\n",
       "        8.41291824e-01, 7.14166738e-01],\n",
       "       [1.37137860e+03, 1.00114621e+02, 6.01769906e+01, 2.44504323e-01,\n",
       "        6.74614371e-01, 6.78661167e-01],\n",
       "       [1.29784365e+03, 8.06649703e+01, 6.52702994e+01, 2.67456690e-01,\n",
       "        7.33236449e-01, 6.92885055e-01]])"
      ]
     },
     "execution_count": 152,
     "metadata": {},
     "output_type": "execute_result"
    }
   ],
   "source": [
    "Xs"
   ]
  },
  {
   "cell_type": "code",
   "execution_count": 153,
   "metadata": {},
   "outputs": [],
   "source": [
    "# select Gyro X, Gyro y, Accel z \n",
    "Xs_ = Xs[:,[0,1,5]]"
   ]
  },
  {
   "cell_type": "markdown",
   "metadata": {},
   "source": [
    "## Models"
   ]
  },
  {
   "cell_type": "code",
   "execution_count": 160,
   "metadata": {},
   "outputs": [],
   "source": [
    "# SVC (linear)\n",
    "mSVC = SVC(kernel='linear').fit(Xs, y)\n",
    "mSVC_ = SVC(kernel='linear').fit(Xs, y)"
   ]
  },
  {
   "cell_type": "code",
   "execution_count": 161,
   "metadata": {},
   "outputs": [],
   "source": [
    "# KNN\n",
    "KNN = KNeighborsClassifier(n_neighbors=3)\n",
    "mKNN = KNN.fit(Xs,y)\n",
    "mKNN_ = KNN.fit(Xs_, y)"
   ]
  },
  {
   "cell_type": "markdown",
   "metadata": {},
   "source": [
    "## Prediction"
   ]
  },
  {
   "cell_type": "code",
   "execution_count": 164,
   "metadata": {},
   "outputs": [
    {
     "data": {
      "text/plain": [
       "array([2])"
      ]
     },
     "execution_count": 164,
     "metadata": {},
     "output_type": "execute_result"
    }
   ],
   "source": [
    "mSVC.predict(sp[0].reshape(1,-1))"
   ]
  },
  {
   "cell_type": "code",
   "execution_count": null,
   "metadata": {},
   "outputs": [],
   "source": [
    "def predict_model(model,data):\n",
    "     data = np.array(data)\n",
    "     if np.any(np.isnan(data)) or np.any(np.isinf(data)):\n",
    "          return 0\n",
    "     return model.predict(data.reshape(1,-1))[0]"
   ]
  },
  {
   "cell_type": "markdown",
   "metadata": {},
   "source": [
    "## Helper Functions"
   ]
  },
  {
   "cell_type": "code",
   "execution_count": null,
   "metadata": {},
   "outputs": [],
   "source": [
    "gyro_x = wave_data[0].iloc[:, 0].values\n",
    "gyro_y = wave_data[0].iloc[:, 1].values\n",
    "gyro_z = wave_data[0].iloc[:, 2].values\n",
    "accel_x = wave_data[0].iloc[:, 3].values\n",
    "accel_y = wave_data[0].iloc[:, 4].values\n",
    "accel_z = wave_data[0].iloc[:, 5].values\n",
    "\n",
    "\n",
    "def check_data_pattern(d):\n",
    "    x = np.linspace(0, len(d), len(d))\n",
    "    y = d\n",
    "\n",
    "    plt.plot(x, y, 'o', color='black')"
   ]
  }
 ],
 "metadata": {
  "interpreter": {
   "hash": "7b34b089ce0dfc9935940e0a22050b2949fa617f7a2b73925623c261bed16aeb"
  },
  "kernelspec": {
   "display_name": "Python 3 (ipykernel)",
   "language": "python",
   "name": "python3"
  },
  "language_info": {
   "codemirror_mode": {
    "name": "ipython",
    "version": 3
   },
   "file_extension": ".py",
   "mimetype": "text/x-python",
   "name": "python",
   "nbconvert_exporter": "python",
   "pygments_lexer": "ipython3",
   "version": "3.9.7"
  }
 },
 "nbformat": 4,
 "nbformat_minor": 2
}
