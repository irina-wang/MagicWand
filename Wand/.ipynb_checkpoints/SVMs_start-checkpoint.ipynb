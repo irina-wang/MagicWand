{
 "cells": [
  {
   "cell_type": "markdown",
   "metadata": {
    "colab_type": "text",
    "id": "rnrz1EsvW8bG"
   },
   "source": [
    "# Support Vector Machines\n",
    "\n",
    "(Based on an example from VanderPlas, *Python Data Science Handbook*: https://jakevdp.github.io/PythonDataScienceHandbook/)"
   ]
  },
  {
   "cell_type": "code",
   "execution_count": null,
   "metadata": {
    "colab": {},
    "colab_type": "code",
    "id": "CVNGoPi4W8bJ"
   },
   "outputs": [],
   "source": [
    "import numpy as np\n",
    "\n",
    "from sklearn.datasets import make_blobs, make_circles\n",
    "from sklearn.svm import SVC\n",
    "\n",
    "import matplotlib.pyplot as plt\n",
    "from mpl_toolkits import mplot3d\n",
    "%matplotlib inline\n",
    "import seaborn as sns; sns.set()"
   ]
  },
  {
   "cell_type": "markdown",
   "metadata": {},
   "source": [
    "#### Some basic plotting functions"
   ]
  },
  {
   "cell_type": "code",
   "execution_count": null,
   "metadata": {},
   "outputs": [],
   "source": [
    "def plot_sets(Xs, ys, axes=None):\n",
    "    \"\"\"Plots a 2-dimensional (X), 2-class (y) data-set.\"\"\"\n",
    "    axes = axes or plt\n",
    "        \n",
    "    X0, X1 = Xs[ys==0], Xs[ys!=0]\n",
    "    axes.scatter(X0[:, 0], X0[:, 1], c='blue', s=50)\n",
    "    axes.scatter(X1[:, 0], X1[:, 1], c='red', s=50, marker='D')\n",
    "\n",
    "def plot_sets_3d(Xs, ys):\n",
    "    \"\"\"Plots a 3-dimensional (X), 2-class (y) data-set.\"\"\"\n",
    "    axes = plt.axes(projection='3d')\n",
    "        \n",
    "    X0, X1 = Xs[ys==0], Xs[ys!=0]\n",
    "    axes.scatter(X0[:, 0], X0[:, 1], X0[:, 2], c='blue', s=50)\n",
    "    axes.scatter(X1[:, 0], X1[:, 1], X1[:, 2], c='red', s=50, marker='D')"
   ]
  },
  {
   "cell_type": "markdown",
   "metadata": {},
   "source": [
    "#### More complex plotting for SVMs"
   ]
  },
  {
   "cell_type": "code",
   "execution_count": null,
   "metadata": {},
   "outputs": [],
   "source": [
    "def plot_svc_decision_function(model, axes=None, plot_support=True):\n",
    "    \"\"\"Plot the decision function for a 2D SVC (Support Vector Classifier).\"\"\"\n",
    "    axes = axes or plt.gca()\n",
    "    xlim = axes.get_xlim()\n",
    "    ylim = axes.get_ylim()\n",
    "    \n",
    "    # create grid to evaluate model\n",
    "    x = np.linspace(xlim[0], xlim[1], 30)\n",
    "    y = np.linspace(ylim[0], ylim[1], 30)\n",
    "    Y, X = np.meshgrid(y, x)\n",
    "    xy = np.vstack([X.ravel(), Y.ravel()]).T\n",
    "    P = model.decision_function(xy).reshape(X.shape)\n",
    "    \n",
    "    # plot decision boundary and margins\n",
    "    axes.contour(X, Y, P, colors='k',\n",
    "               levels=[-1, 0, 1], alpha=0.5,\n",
    "               linestyles=['--', '-', '--'])\n",
    "    \n",
    "    # plot support vectors\n",
    "    if plot_support:\n",
    "        axes.scatter(model.support_vectors_[:, 0],\n",
    "                   model.support_vectors_[:, 1],\n",
    "                   s=200, linewidth=2, c='black', marker='x')\n",
    "    axes.set_xlim(xlim)\n",
    "    axes.set_ylim(ylim)\n",
    "    \n",
    "def plot_svm(N=10, axes=None):\n",
    "    \"\"\"Generates some 2-dimensional data-blobs of size 200.\n",
    "       Fits a SVC to the first N elements of that data, and shows \n",
    "       the resulting model boundaries over the data itself.\"\"\"\n",
    "    X, y = make_blobs(n_samples=200, centers=2,\n",
    "                      random_state=0, cluster_std=0.60)\n",
    "    X = X[:N]\n",
    "    y = y[:N]\n",
    "    model = SVC(kernel='linear', C=10)\n",
    "    model.fit(X, y)\n",
    "    \n",
    "    axes = axes or plt.gca()\n",
    "    plot_sets(X, y, axes)\n",
    "    \n",
    "    axes.set_xlim(-1, 4)\n",
    "    axes.set_ylim(-1, 6)\n",
    "    plot_svc_decision_function(model, axes)"
   ]
  },
  {
   "cell_type": "markdown",
   "metadata": {
    "colab_type": "text",
    "id": "X1-FmOVQW8bN"
   },
   "source": [
    "## Support Vector Machines\n",
    "\n",
    "Consider a case with two well-separated sets of points:"
   ]
  },
  {
   "cell_type": "code",
   "execution_count": null,
   "metadata": {},
   "outputs": [],
   "source": []
  },
  {
   "cell_type": "markdown",
   "metadata": {
    "colab_type": "text",
    "id": "_N7vWQAtW8b_"
   },
   "source": [
    "### Beyond linear boundaries: Kernel SVM"
   ]
  },
  {
   "cell_type": "code",
   "execution_count": null,
   "metadata": {
    "colab": {},
    "colab_type": "code",
    "id": "U8yUirnbW8cA",
    "outputId": "1b08dbfa-fd7f-4e26-fb1e-22b4c4677c0c"
   },
   "outputs": [],
   "source": [
    "Xs, ys = make_circles(100, factor=.1, noise=.1)\n",
    "clf = SVC(kernel='linear').fit(Xs, ys)\n",
    "\n",
    "plot_sets(Xs, ys)\n",
    "plot_svc_decision_function(clf, plot_support=False);"
   ]
  },
  {
   "cell_type": "markdown",
   "metadata": {
    "colab_type": "text",
    "id": "2rKpq16yW8cS"
   },
   "source": [
    "### Softening Margins"
   ]
  },
  {
   "cell_type": "code",
   "execution_count": null,
   "metadata": {
    "colab": {},
    "colab_type": "code",
    "id": "pVhT6s97W8cT",
    "outputId": "7150125b-ef7c-4b45-812d-b98f7058d3a2"
   },
   "outputs": [],
   "source": [
    "Xs, ys = make_blobs(n_samples=100, centers=2,\n",
    "                  random_state=0, cluster_std=1.2)\n",
    "plot_sets(Xs, ys)"
   ]
  },
  {
   "cell_type": "markdown",
   "metadata": {
    "colab_type": "text",
    "id": "EpUcpRgOW8cX"
   },
   "source": [
    "The plot shown below gives a visual picture of how a changing $C$ parameter affects the final fit, via the softening of the margin:"
   ]
  },
  {
   "cell_type": "code",
   "execution_count": null,
   "metadata": {
    "colab": {},
    "colab_type": "code",
    "id": "pbthTYoCW8cX",
    "outputId": "5faa2e49-fe4c-48a8-d73f-9f1ff0b1cd0d"
   },
   "outputs": [],
   "source": [
    "Xs, ys = make_blobs(n_samples=100, centers=2,\n",
    "                  random_state=0, cluster_std=1.2)\n",
    "\n",
    "fig, ax = plt.subplots(1, 2, figsize=(16, 6))\n",
    "fig.subplots_adjust(left=0.0625, right=0.95, wspace=0.1)\n",
    "\n",
    "# Play with the two values (10.0, 0.1) to experiment with \n",
    "# harder margins (higher values) or softer (lower).\n",
    "for axi, C in zip(ax, [10.0, 0.1]):\n",
    "    model = SVC(kernel='linear', C=C).fit(Xs, ys)\n",
    "    plot_sets(Xs, ys, axi)\n",
    "    \n",
    "    # If you want to see the support vectors, toggle plot_support.\n",
    "    plot_svc_decision_function(model, axi, plot_support=False)\n",
    "    axi.scatter(model.support_vectors_[:, 0],\n",
    "                model.support_vectors_[:, 1],\n",
    "                s=300, lw=1, facecolors='none');\n",
    "    axi.set_title('C = {0:f}'.format(C), size=14)"
   ]
  },
  {
   "cell_type": "code",
   "execution_count": null,
   "metadata": {},
   "outputs": [],
   "source": []
  }
 ],
 "metadata": {
  "colab": {
   "name": "05.07-Support-Vector-Machines.ipynb",
   "provenance": [],
   "version": "0.3.2"
  },
  "kernelspec": {
   "display_name": "Python 3 (ipykernel)",
   "language": "python",
   "name": "python3"
  },
  "language_info": {
   "codemirror_mode": {
    "name": "ipython",
    "version": 3
   },
   "file_extension": ".py",
   "mimetype": "text/x-python",
   "name": "python",
   "nbconvert_exporter": "python",
   "pygments_lexer": "ipython3",
   "version": "3.9.7"
  }
 },
 "nbformat": 4,
 "nbformat_minor": 1
}
